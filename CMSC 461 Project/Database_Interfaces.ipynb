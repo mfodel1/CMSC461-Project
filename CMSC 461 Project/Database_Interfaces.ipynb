{
 "cells": [
  {
   "cell_type": "markdown",
   "metadata": {},
   "source": [
    "__No need to install modules outside of basic Python 3 modules__"
   ]
  },
  {
   "cell_type": "code",
   "execution_count": 1,
   "metadata": {},
   "outputs": [],
   "source": [
    "import mysql.connector\n",
    "import getpass\n",
    "import pandas as pd"
   ]
  },
  {
   "cell_type": "markdown",
   "metadata": {},
   "source": [
    "__Default username and password:\n",
    "<br>\n",
    "    root\n",
    "    <br>\n",
    "    CMSC461__"
   ]
  },
  {
   "cell_type": "code",
   "execution_count": 2,
   "metadata": {},
   "outputs": [
    {
     "name": "stdout",
     "output_type": "stream",
     "text": [
      "Enter username········\n",
      "Enter password········\n"
     ]
    }
   ],
   "source": [
    "db_user = getpass.getpass('Enter username')\n",
    "db_password = getpass.getpass('Enter password')"
   ]
  },
  {
   "cell_type": "code",
   "execution_count": 3,
   "metadata": {},
   "outputs": [],
   "source": [
    "config = {\n",
    "    'user': db_user,\n",
    "    'password': db_password,\n",
    "    'host': 'localhost',\n",
    "    'port': 3306,\n",
    "    'database': 'Project',\n",
    "    'raise_on_warnings': True\n",
    "}"
   ]
  },
  {
   "cell_type": "code",
   "execution_count": 4,
   "metadata": {},
   "outputs": [],
   "source": [
    "# Connect to server\n",
    "db_connection = mysql.connector.connect(**config)"
   ]
  },
  {
   "cell_type": "code",
   "execution_count": 5,
   "metadata": {},
   "outputs": [],
   "source": [
    "# cursor of the output of queries\n",
    "cur = db_connection.cursor()"
   ]
  },
  {
   "cell_type": "markdown",
   "metadata": {},
   "source": [
    "__For all of the following cells, the default input/behavior for the queries is shown in the output of the cells__"
   ]
  },
  {
   "cell_type": "code",
   "execution_count": 44,
   "metadata": {},
   "outputs": [
    {
     "name": "stdout",
     "output_type": "stream",
     "text": [
      "Insert your Query: select first_name, last_name from driver\n",
      "   first_name  last_name\n",
      "0         Dan      James\n",
      "1      Cheryl        Ann\n",
      "2        Sara    Madison\n",
      "3       Grace    Beverly\n",
      "4        Mike      Henry\n",
      "5        Ryan    Anthony\n",
      "6        Liam     Oliver\n",
      "7        Mary  Elizabeth\n",
      "8         Don    Stevens\n",
      "9       Frank  Alexander\n",
      "10       Carl     Harold\n",
      "11       Jude    Frances\n"
     ]
    }
   ],
   "source": [
    "# run this cell and insert your desired SQL query\n",
    "# allows the user to access, populate, update, administer the SQL tables in the database\n",
    "query = input(\"Insert your Query: \")\n",
    "\n",
    "cur.execute(query)\n",
    "\n",
    "result = cur.fetchall()\n",
    "df = pd.DataFrame(result, columns= cur.column_names)\n",
    "print(df)"
   ]
  },
  {
   "cell_type": "code",
   "execution_count": 6,
   "metadata": {},
   "outputs": [
    {
     "name": "stdout",
     "output_type": "stream",
     "text": [
      "   first_name  last_name\n",
      "0         Dan      James\n",
      "1      Cheryl        Ann\n",
      "2        Sara    Madison\n",
      "3       Grace    Beverly\n",
      "4        Mike      Henry\n",
      "5        Ryan    Anthony\n",
      "6        Liam     Oliver\n",
      "7        Mary  Elizabeth\n",
      "8         Don    Stevens\n",
      "9       Frank  Alexander\n",
      "10       Carl     Harold\n",
      "11       Jude    Frances\n"
     ]
    }
   ],
   "source": [
    "# Run this cell to get the name of all the drivers\n",
    "# Functional Requirement #1 in project\n",
    "query = \"Select first_name, last_name from driver\"\n",
    "\n",
    "cur.execute(query)\n",
    "\n",
    "result = cur.fetchall()\n",
    "df = pd.DataFrame(result, columns= cur.column_names)\n",
    "print(df)"
   ]
  },
  {
   "cell_type": "code",
   "execution_count": 30,
   "metadata": {},
   "outputs": [
    {
     "name": "stdout",
     "output_type": "stream",
     "text": [
      "Give a date (YYYY-MM-DD): 2015-02-01\n",
      "  sum(dist_change)\n",
      "0          25.5390\n"
     ]
    }
   ],
   "source": [
    "# Run this cell to find the total miles traveled by all customers during a given date\n",
    "# Functional Requirement #2 in project\n",
    "date = input(\"Give a date (YYYY-MM-DD): \")\n",
    "date = date + '%'\n",
    "query = \"Select sum(dist_change) from trip inner join trip_stops on trip.trajectory = trip_stops.trajectory where trip_stops.timestmp like %(arg)s\"\n",
    "\n",
    "cur.execute(query, {'arg': date})\n",
    "\n",
    "result = cur.fetchall()\n",
    "df = pd.DataFrame(result, columns= cur.column_names)\n",
    "print(df)"
   ]
  },
  {
   "cell_type": "code",
   "execution_count": 27,
   "metadata": {},
   "outputs": [
    {
     "name": "stdout",
     "output_type": "stream",
     "text": [
      "Give a month 'YYYY-MM': 2019-12\n",
      "   count(trajectory) first_name last_name\n",
      "0                  2        Dan     James\n"
     ]
    }
   ],
   "source": [
    "# Run this cell to find the most active driver (in terms of number of trips) during a given month \n",
    "# Functional Requirement #3 in project\n",
    "month = input(\"Give a month (YYYY-MM): \")\n",
    "month = month + '%'\n",
    "query = \"select count(trajectory), first_name, last_name from driver inner join trip on driver.driver_id = trip.driver inner join trip_stops using(trajectory) where is_last = 'yes' and timestmp like %(arg)s group by driver order by count(trajectory) desc limit 1\" \n",
    "\n",
    "cur.execute(query, {'arg': month})\n",
    "\n",
    "result = cur.fetchall()\n",
    "df = pd.DataFrame(result, columns= cur.column_names)\n",
    "print(df)"
   ]
  },
  {
   "cell_type": "code",
   "execution_count": 29,
   "metadata": {},
   "outputs": [
    {
     "name": "stdout",
     "output_type": "stream",
     "text": [
      "     sums           card_no first_name last_name\n",
      "0  600.00  1234567891111111       Most  Valuable\n"
     ]
    }
   ],
   "source": [
    "# Run this cell to find the most valuable customer in terms of money charged\n",
    "# Functional Requirement #4 in project\n",
    "query = \"select * from (select sum(amount) as sums, card_no, first_name, last_name from customer inner join payment using (card_no) group by card_no) AS A group by sums order by sums desc limit 1\"  \n",
    "\n",
    "cur.execute(query)\n",
    "\n",
    "result = cur.fetchall()\n",
    "df = pd.DataFrame(result, columns= cur.column_names)\n",
    "print(df)"
   ]
  },
  {
   "cell_type": "markdown",
   "metadata": {},
   "source": [
    "__This cell returns two values, the first being the total cost of all trips driven by a given driver,\n",
    "<br>\n",
    "the second being the amount of money credited to this driver__\n",
    "<br>\n",
    "__Additionally, it assumed that multiple customers may be making concurrent payments at the time the query is issued.__"
   ]
  },
  {
   "cell_type": "code",
   "execution_count": 31,
   "metadata": {},
   "outputs": [
    {
     "name": "stdout",
     "output_type": "stream",
     "text": [
      "Give a Driver's ID number: ID8\n",
      "  sum(trip.cost)\n",
      "0          64.43\n",
      "  sum(payment.amount)\n",
      "0              -20.00\n"
     ]
    }
   ],
   "source": [
    "# Run this cell to find the balance owed to a given driver\n",
    "# the Driver must be entered in terms of their ID number so as to ensure that users cannot view information about drivers\n",
    "# that they shouldn't know about\n",
    "# Functional Requirement #5 in project\n",
    "driver = input(\"Give a Driver's ID number: \")\n",
    "query = \"select sum(trip.cost) from driver inner join trip on driver.driver_id = trip.driver where driver_id = %(arg)s\" \n",
    "cur.execute(query, {'arg': driver})\n",
    "result = cur.fetchall()\n",
    "\n",
    "df = pd.DataFrame(result, columns= cur.column_names)\n",
    "print(df)\n",
    "        \n",
    "query2 = \"select sum(payment.amount) from driver inner join payment on driver.card_no = payment.card_no where driver_id = %(arg)s\"\n",
    "cur.execute(query2, {'arg': driver})\n",
    "result = cur.fetchall()\n",
    "\n",
    "if not cur.rowcount:\n",
    "    print(\"No payments have been made to this total yet.\")\n",
    "else:\n",
    "    df = pd.DataFrame(result, columns= cur.column_names)\n",
    "    print(df)"
   ]
  },
  {
   "cell_type": "code",
   "execution_count": 32,
   "metadata": {},
   "outputs": [
    {
     "name": "stdout",
     "output_type": "stream",
     "text": [
      "Give a month (YYYY-MM):2019-12\n",
      "    vehicle current_month   vehicle previous_month\n",
      "0  123456OH       12.9800  123456OH         1.0000\n"
     ]
    }
   ],
   "source": [
    "# Run this cell to find the vehicles that have traveled more miles in a given month than the previous month\n",
    "# Functional Requirement #6 in project\n",
    "month = input(\"Give a month (YYYY-MM):\")\n",
    "month = month + '-01'\n",
    "query = \"select * from((select vehicle, sum(dist_change) as current_month from vehicle inner join trip on vehicle.tag_info = trip.vehicle inner join trip_stops using (trajectory) where is_last = 'yes' and date(timestmp) >= date(%(arg)s) and date(timestmp) < date(%(arg)s) + interval 1 month group by vehicle) A inner join (select vehicle, sum(dist_change) as previous_month from vehicle inner join trip on vehicle.tag_info = trip.vehicle inner join trip_stops using (trajectory) where is_last = 'yes' and date(timestmp) >= date(%(arg)s) - interval 1 month and date(timestmp) < date(%(arg)s) group by vehicle) B on (A.current_month > B.previous_month and A.vehicle = B.vehicle))\"\n",
    "cur.execute(query, {'arg': month})\n",
    "result = cur.fetchall()\n",
    "\n",
    "df = pd.DataFrame(result, columns= cur.column_names)\n",
    "print(df)"
   ]
  },
  {
   "cell_type": "code",
   "execution_count": 33,
   "metadata": {},
   "outputs": [
    {
     "name": "stdout",
     "output_type": "stream",
     "text": [
      "  is_last street_no street_name         city state    zip       lat       lng  \\\n",
      "0      no      1234      Street  Catonsville    MD  21236  0.760123 -0.567903   \n",
      "1      no      1234      Street  Catonsville    MD  21236  0.760123 -0.567903   \n",
      "2      no      1234      Street  Catonsville    MD  21236  0.760123 -0.567903   \n",
      "3      no      1234      Street  Catonsville    MD  21236  0.760123 -0.567903   \n",
      "4     yes      1234       Query      Testing    MD  21236  0.760123 -0.567903   \n",
      "5      no      1234      Street  Catonsville    MD  21236  0.760123 -0.567903   \n",
      "\n",
      "              timestmp  count(*)  \n",
      "0  2019-12-12 11:34:44         2  \n",
      "1  2019-12-12 09:34:44         2  \n",
      "2  2019-12-12 10:34:44         2  \n",
      "3  2019-12-12 08:34:44         2  \n",
      "4  2019-12-12 12:45:44         1  \n",
      "5  2019-12-12 12:34:44         1  \n"
     ]
    }
   ],
   "source": [
    "# Run this cell to Find the top 10 most popular trip trajectories (considering only their starting and ending stops) \n",
    "# in the last 24-hours. Gives a list of the most popular starting/ending points in the last 24 hours.\n",
    "# Functional Requirement #7 in project \n",
    "query = \"select is_last, street_no, street_name, city, state, zip, lat, lng, timestmp, count(*) from trip inner join trip_stops using (trajectory) where (is_last = 'yes' or dist_change = 0) group by trajectory, street_no, street_name, city, state, zip having (count(*) > 0 and timestmp >= NOW() - INTERVAL 1 DAY) order by count(*) desc limit 10\"\n",
    "cur.execute(query)\n",
    "result = cur.fetchall()\n",
    "\n",
    "if not cur.rowcount:\n",
    "    print(\"No Trips have been made in the last 24 hours.\")\n",
    "else:\n",
    "    df = pd.DataFrame(result, columns= cur.column_names)\n",
    "    print(df)"
   ]
  },
  {
   "cell_type": "code",
   "execution_count": 33,
   "metadata": {},
   "outputs": [
    {
     "name": "stdout",
     "output_type": "stream",
     "text": [
      "Enter a Latitude value: .77\n",
      "Enter a Longitude value: .57\n",
      "   tag_info    make    model   lat   lng  lugg_capacity  seating_capacity\n",
      "0  123456MD  Toyota  Corolla  0.77 -0.57              5                 3\n"
     ]
    }
   ],
   "source": [
    "# Run this cell to Find the closest available vehicle for a given location (specified by its coordinates).\n",
    "# available = 1 means the vehicle is available\n",
    "# Functional Requirement #8 in project \n",
    "lat = float(input(\"Enter a Latitude value: \"))\n",
    "long = float(input(\"Enter a Longitude value: \"))\n",
    "\n",
    "query = \"select vehicle.tag_info, make, model, lat, lng, lugg_capacity, seating_capacity from vehicle inner join vehicle_last_loc using(tag_info) where vehicle.available = 1 order by abs(lat - %(arg)s) asc, abs(lng - %(arg2)s) asc limit 1;\"\n",
    "cur.execute(query, {'arg': lat, 'arg2': long})\n",
    "result = cur.fetchall()\n",
    "\n",
    "if not cur.rowcount:\n",
    "    print(\"No results found.\")\n",
    "else:\n",
    "    df = pd.DataFrame(result, columns= cur.column_names)\n",
    "    print(df)"
   ]
  },
  {
   "cell_type": "markdown",
   "metadata": {},
   "source": [
    "__More values may have to be added to the trips table for future testing of this cell as it was tested on 2019-12-12__"
   ]
  },
  {
   "cell_type": "code",
   "execution_count": 6,
   "metadata": {},
   "outputs": [
    {
     "name": "stdout",
     "output_type": "stream",
     "text": [
      "  first_name last_name name1  name2      lat1      lng1             timestmp  \\\n",
      "0       John       Doe   Ann  Smith  0.760123 -0.567903  2019-12-11 06:37:44   \n",
      "1        Ann     Smith  John    Doe  0.760123 -0.567903  2019-12-11 06:38:44   \n",
      "\n",
      "              timestmp  \n",
      "0  2019-12-11 06:38:44  \n",
      "1  2019-12-11 06:37:44  \n"
     ]
    }
   ],
   "source": [
    "# Run this cell to Find the pairs of customers that took trips yesterday which ended at the same stop within 5\n",
    "# minutes of each other. \n",
    "# returns a list of customers who arrived in similar locations at similar times\n",
    "# Functional Requirement #9 in project \n",
    "query = \"select first_name, last_name, name1, name2, lat1, lng1, A.timestmp, B.timestmp from((select first_name, last_name, timestmp, lat, lng, cust_id from customer inner join trip on customer.cust_id = trip.customer inner join trip_stops using (trajectory) where is_last = 'yes' and date(timestmp) = subdate(curdate(), 1) group by customer, lat, lng) A inner join (select first_name as name1, last_name as name2, timestmp, lat as lat1, lng as lng1, cust_id from customer inner join trip on customer.cust_id = trip.customer inner join trip_stops using (trajectory) where is_last = 'yes' and date(timestmp) = subdate(curdate(), 1) group by customer) B on (A.lng = B.lng1 and A.lat = B.lat1 and A.cust_id <> B.cust_id)) where abs(time_to_sec(timediff(time(A.timestmp), time(B.timestmp)))) < 300\"\n",
    "cur.execute(query)\n",
    "result = cur.fetchall()\n",
    "\n",
    "if not cur.rowcount:\n",
    "    print(\"No results found.\")\n",
    "else:\n",
    "    df = pd.DataFrame(result, columns= cur.column_names)\n",
    "    print(df)"
   ]
  },
  {
   "cell_type": "code",
   "execution_count": 7,
   "metadata": {},
   "outputs": [
    {
     "name": "stdout",
     "output_type": "stream",
     "text": [
      "Enter a customer's ID: ID1\n",
      "Give the date of the end of your desired week (YYYY-MM-DD):2019-12-11\n",
      "  first_name  last_name   vehicle\n",
      "0       John        Doe  123456MD\n",
      "1      Query  10-Person  123456MD\n"
     ]
    }
   ],
   "source": [
    "# Run this cell to Find the customers that took trips with all the vehicles that a given customer took a trip with in a\n",
    "# given week. \n",
    "# Functional Requirement #10 in project \n",
    "customer = input(\"Enter a customer's ID: \")\n",
    "week_end = input(\"Give the date of the end of your desired week (YYYY-MM-DD):\")\n",
    "query = \"select first_name, last_name, vehicle from customer inner join trip on customer.cust_id = trip.customer where vehicle in ( select vehicle from customer inner join trip on customer.cust_id = trip.customer inner join trip_stops using(trajectory) where dist_change = 0 and cust_id = %(arg)s and (date(timestmp) >= subdate(date(%(arg2)s),interval 1 week))) group by cust_id\"\n",
    "\n",
    "cur.execute(query, {'arg': customer, 'arg2': week_end})\n",
    "result = cur.fetchall()\n",
    "\n",
    "if not cur.rowcount:\n",
    "    print(\"No Trips have been made in the last week.\")\n",
    "else:\n",
    "    df = pd.DataFrame(result, columns= cur.column_names)\n",
    "    print(df)"
   ]
  },
  {
   "cell_type": "code",
   "execution_count": 10,
   "metadata": {},
   "outputs": [
    {
     "data": {
      "text/plain": [
       "False"
      ]
     },
     "execution_count": 10,
     "metadata": {},
     "output_type": "execute_result"
    }
   ],
   "source": [
    "cur.close()"
   ]
  },
  {
   "cell_type": "code",
   "execution_count": 11,
   "metadata": {},
   "outputs": [],
   "source": [
    "db_connection.close()"
   ]
  }
 ],
 "metadata": {
  "kernelspec": {
   "display_name": "Python 3",
   "language": "python",
   "name": "python3"
  },
  "language_info": {
   "codemirror_mode": {
    "name": "ipython",
    "version": 3
   },
   "file_extension": ".py",
   "mimetype": "text/x-python",
   "name": "python",
   "nbconvert_exporter": "python",
   "pygments_lexer": "ipython3",
   "version": "3.7.3"
  }
 },
 "nbformat": 4,
 "nbformat_minor": 2
}
